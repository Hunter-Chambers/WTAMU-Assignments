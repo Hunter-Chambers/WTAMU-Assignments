{
 "cells": [
  {
   "cell_type": "markdown",
   "metadata": {},
   "source": [
    "## My Steps To Completing This Scripting Assignment\n",
    "\n",
    "First I took Dr. Ramljak's solution in bash, and broke it apart in order to more easily understand what is happening."
   ]
  },
  {
   "cell_type": "markdown",
   "metadata": {},
   "source": [
    "The tr command is simply converting all uppercase letters in the input to lowercase letters."
   ]
  },
  {
   "cell_type": "code",
   "execution_count": null,
   "metadata": {},
   "outputs": [],
   "source": [
    "tr '[:upper:]' '[:lower:]'"
   ]
  },
  {
   "cell_type": "markdown",
   "metadata": {},
   "source": [
    "The grep command searches through the input and collects all of the substrings that match the regular expression that is specified. In my case that is [[:lower:]']+. -o makes sure that the future commands that we run in this script only apply to the substrings, and -E makes sure that the specified regular expression is evaluated correctly.\n",
    "\n",
    "I had to do some research on regular expressions in order to apply the correct one. \"[:lower:]\" looks for any lowercase letter and \" ' \" looks for the \" ' \" character. Putting those inside \"[]\" looks for a substring that is a single character long that matches any lowercase letter or a \" ' \". Adding \" + \" to the end causes the command to look for all substrings of any length that have those characters."
   ]
  },
  {
   "cell_type": "code",
   "execution_count": null,
   "metadata": {},
   "outputs": [],
   "source": [
    "grep -oE \"[[:lower:]']+\""
   ]
  },
  {
   "cell_type": "markdown",
   "metadata": {},
   "source": [
    "The sort command sorts the input"
   ]
  },
  {
   "cell_type": "code",
   "execution_count": null,
   "metadata": {},
   "outputs": [],
   "source": [
    "sort"
   ]
  },
  {
   "cell_type": "markdown",
   "metadata": {},
   "source": [
    "The uniq command removes all the repeated substrings that were found. -c prefixes each substring with the amount of times that substring was found."
   ]
  },
  {
   "cell_type": "code",
   "execution_count": null,
   "metadata": {},
   "outputs": [],
   "source": [
    "uniq -c"
   ]
  },
  {
   "cell_type": "markdown",
   "metadata": {},
   "source": [
    "The sort command sorts the input. -n sorts the input based off of numerical value (so in this case, the numbers that were prefixed by the uniq command). -r reversed the order so that the largest number appears first."
   ]
  },
  {
   "cell_type": "code",
   "execution_count": null,
   "metadata": {},
   "outputs": [],
   "source": [
    "sort -nr"
   ]
  },
  {
   "cell_type": "markdown",
   "metadata": {},
   "source": [
    "Finally, the head command displays the number of specified lines of the input. -n allows the user to specify the number of lines to display."
   ]
  },
  {
   "cell_type": "code",
   "execution_count": null,
   "metadata": {},
   "outputs": [],
   "source": [
    "head -n"
   ]
  },
  {
   "cell_type": "markdown",
   "metadata": {},
   "source": [
    "I took this information and ultimately came up with the following steps that I would need to apply in each language in order to complete the task:\n",
    "    - convert the input to all lowercase\n",
    "    - find all substrings that match the regular expression\n",
    "    - count the number of times each substring was found\n",
    "    - display the top ten words"
   ]
  },
  {
   "cell_type": "markdown",
   "metadata": {},
   "source": [
    "## Python\n",
    "\n",
    "I completed the python script first, since I understand Python the most. Here is my script:"
   ]
  },
  {
   "cell_type": "code",
   "execution_count": 1,
   "metadata": {
    "scrolled": false
   },
   "outputs": [
    {
     "name": "stdout",
     "output_type": "stream",
     "text": [
      "   6440 and\n",
      "   5079 the\n",
      "   3277 i\n",
      "   3260 a\n",
      "   3024 to\n",
      "   2349 it\n",
      "   2072 was\n",
      "   1777 of\n",
      "   1686 he\n",
      "   1516 in\n"
     ]
    }
   ],
   "source": [
    "#!/usr/bin/env python3\n",
    "\n",
    "# this is needed in order to use regular expressions\n",
    "import re\n",
    "\n",
    "f = open(\"HuckFinn.txt\", errors='ignore')\n",
    "\n",
    "# read the file into memory.\n",
    "# lines is now an array full of strings\n",
    "# that are each line from HuckFinn.txt\n",
    "lines = f.readlines()\n",
    "\n",
    "# close the file since its contents are now in memory\n",
    "f.close()\n",
    "\n",
    "# this dictionary will have each word as a key, and\n",
    "# the number of times that it appears as the value\n",
    "data = {}\n",
    "\n",
    "for line in lines:\n",
    "    # convert the line to lowercase\n",
    "    line = line.lower()\n",
    "    \n",
    "    # find all substrings that match the regular expression\n",
    "    words = re.findall(\"[a-z']+\", line)\n",
    "    \n",
    "    # this for loop will count the number of times each\n",
    "    # substring has occured\n",
    "    for word in words:\n",
    "        if (word in data):\n",
    "            data[word] += 1\n",
    "        else:\n",
    "            data[word] = 1\n",
    "            \n",
    "# sort the key, value pairs based on their values\n",
    "top_ten = sorted(data, key=data.get, reverse=True)[:10]\n",
    "\n",
    "# display the top ten\n",
    "for key in top_ten:\n",
    "    print(\"  \", data[key], key)"
   ]
  },
  {
   "cell_type": "markdown",
   "metadata": {},
   "source": [
    "As you can see, I followed my steps of converting, finding all substrings, counting, and displaying. I decided to use hashmaps because accessing and updating them are fairly quick. The hardest challenge was figuring out how to order them, because hashmaps are unordered by default. Luckily most of the languages either had a built-in sorting function for hashmaps, or they had an easy solution.\n",
    "Below you can find the rest of my scripts."
   ]
  },
  {
   "cell_type": "markdown",
   "metadata": {},
   "source": [
    "## Bash"
   ]
  },
  {
   "cell_type": "code",
   "execution_count": null,
   "metadata": {},
   "outputs": [],
   "source": [
    "#!/usr/bin/env bash\n",
    "\n",
    "(tr '[:upper:]' '[:lower:]' | grep -oE \"[[:lower:]']+\" | sort |\n",
    "uniq -c | sort -nr | head -n 10) < HuckFinn.txt"
   ]
  },
  {
   "attachments": {
    "topten-bash.PNG": {
     "image/png": "[encoded data removed]"
    }
   },
   "cell_type": "markdown",
   "metadata": {},
   "source": [
    "![topten-bash.PNG](attachment:topten-bash.PNG)"
   ]
  },
  {
   "cell_type": "markdown",
   "metadata": {},
   "source": [
    "## JavaScript"
   ]
  },
  {
   "cell_type": "code",
   "execution_count": null,
   "metadata": {},
   "outputs": [],
   "source": [
    "#!/usr/bin/env node\n",
    "\n",
    "// used to read input files\n",
    "var fs = require('fs');\n",
    "\n",
    "fs.readFile('HuckFinn.txt', 'utf8', function(err, text) {\n",
    "    // display error if one occured while trying to open the file\n",
    "    if (err) {\n",
    "        return console.log(err);\n",
    "    }\n",
    "\n",
    "    // this is the regular expression. the gi at the end makes\n",
    "    // sure that all substrings that match this expression are\n",
    "    // found, and it will not be case-sensitive.\n",
    "    var re = /[a-z']+/gi;\n",
    "\n",
    "    // find all substrings that match the regular expression\n",
    "    var words = text.match(re);\n",
    "\n",
    "    // this Map() object will hold key, value pairs where\n",
    "    // the word will be the key and the number of times that\n",
    "    // it appears will be the value\n",
    "    var data = new Map();\n",
    "\n",
    "    for (word of words) {\n",
    "        // convert each word to lowercase\n",
    "        word = word.toLowerCase();\n",
    "\n",
    "        // update the number of times that it has occured so far\n",
    "        if (data.has(word)) {\n",
    "            data.set(word, data.get(word) + 1);\n",
    "        } else {\n",
    "            data.set(word, 1);\n",
    "        }\n",
    "    }\n",
    "\n",
    "    // sort the Map() objects key, value pairs based on their values\n",
    "    var topTen = new Map([...data.entries()].sort((a, b) => b[1] - a[1]));\n",
    "\n",
    "    // display the top ten\n",
    "    var keys = topTen.keys();\n",
    "    for (var i = 0; i < 10; i++) {\n",
    "        key = keys.next().value;\n",
    "        console.log(\"  \", topTen.get(key), key);\n",
    "    }\n",
    "});"
   ]
  },
  {
   "attachments": {
    "topten-js.PNG": {
     "image/png": "[encoded data removed]"
    }
   },
   "cell_type": "markdown",
   "metadata": {},
   "source": [
    "![topten-js.PNG](attachment:topten-js.PNG)"
   ]
  },
  {
   "cell_type": "markdown",
   "metadata": {},
   "source": [
    "## Lua"
   ]
  },
  {
   "cell_type": "code",
   "execution_count": null,
   "metadata": {},
   "outputs": [],
   "source": [
    "#!/usr/bin/env lua\n",
    "\n",
    "-- this is a hashmap that will hold key, value pairs\n",
    "-- where the word is the key and the number of times\n",
    "-- that it appears is its value\n",
    "local freq = {}\n",
    "\n",
    "for line in io.lines('HuckFinn.txt') do\n",
    "    -- convert each line of the text to lowercase\n",
    "    local lowerline = string.lower(line)\n",
    "\n",
    "    -- find all substrings that match the regular expression\n",
    "    for word in string.gmatch(lowerline, \"[%a']+\") do\n",
    "        -- update the number of times that the substring\n",
    "        -- has appeared so far\n",
    "        if not freq[word] then\n",
    "            freq[word] = 1\n",
    "        else\n",
    "            freq[word] = freq[word] + 1\n",
    "        end\n",
    "    end\n",
    "end\n",
    "\n",
    "local array = {}\n",
    "\n",
    "-- fill array with the key, value pairs. I.E. array[0] => 'and, 6440'\n",
    "-- this is necessary so that we can sort them correctly\n",
    "for word, count in pairs(freq) do\n",
    "        table.insert(array, {word, count})\n",
    "end\n",
    "\n",
    "-- sort the key, value pairs based on their value\n",
    "table.sort(array, function (a, b) return a[2] > b[2] end)\n",
    "\n",
    "-- display the top ten\n",
    "for i = 1, 10 do\n",
    "        io.write(string.format('%7d %s\\n', array[i][2] , array[i][1]))\n",
    "end"
   ]
  },
  {
   "attachments": {
    "topten-lua.PNG": {
     "image/png": "[encoded data removed]"
    }
   },
   "cell_type": "markdown",
   "metadata": {},
   "source": [
    "![topten-lua.PNG](attachment:topten-lua.PNG)"
   ]
  },
  {
   "cell_type": "markdown",
   "metadata": {},
   "source": [
    "## Perl"
   ]
  },
  {
   "cell_type": "code",
   "execution_count": null,
   "metadata": {},
   "outputs": [],
   "source": [
    "#!/usr/bin/env perl\n",
    "\n",
    "# open the file\n",
    "open($file, '<', 'HuckFinn.txt');\n",
    "\n",
    "# read contents of file into memory\n",
    "@whole_file = <$file>;\n",
    "\n",
    "# close file since its contents is now in memory\n",
    "close($file);\n",
    "\n",
    "# this is a hashmap that will hold key, value pairs\n",
    "# where the key is the word and the value is the\n",
    "# number of times that it appears\n",
    "%data = ();\n",
    "\n",
    "foreach $line (@whole_file) {\n",
    "    # convert each line to lowercase\n",
    "    $line = lc $line;\n",
    "\n",
    "    # find all substrings that match the regular expression\n",
    "    foreach $word ($line =~ /[a-z']+/g) {\n",
    "        # update the number of times that it has appeared so far\n",
    "        if (exists($data{$word})) {\n",
    "            $data{$word} = $data{$word} + 1;\n",
    "        } else {\n",
    "            $data{$word} = 1;\n",
    "        }\n",
    "    }\n",
    "}\n",
    "\n",
    "# sort the key, value pairs based on their values\n",
    "@top_ten = (reverse sort {$data{$a} <=> $data{$b}} keys %data)[0..9];\n",
    "\n",
    "# display the top ten\n",
    "foreach $key (@top_ten) {\n",
    "    print \"   $data{$key} $key\\n\";\n",
    "}"
   ]
  },
  {
   "attachments": {
    "topten-perl.PNG": {
     "image/png": "[encoded data removed]"
    }
   },
   "cell_type": "markdown",
   "metadata": {},
   "source": [
    "![topten-perl.PNG](attachment:topten-perl.PNG)"
   ]
  },
  {
   "cell_type": "markdown",
   "metadata": {},
   "source": [
    "## Ruby"
   ]
  },
  {
   "cell_type": "code",
   "execution_count": null,
   "metadata": {},
   "outputs": [],
   "source": [
    "#!/usr/bin/env ruby\n",
    "\n",
    "# this is our regular expression\n",
    "RE = /[[:alpha:]']+/\n",
    "\n",
    "# open(\"HuckFinn.txt\") => open the file\n",
    "# read.downcase        => convert the contents to lowercase\n",
    "# scan(RE)             => find all substrings that match the regular expression\n",
    "# tally                => count how many times each substring appears\n",
    "# max_by(10, &:last)   => only keep the top ten based on their tallies\n",
    "count = open(\"HuckFinn.txt\").read.downcase.scan(RE).tally.max_by(10, &:last)\n",
    "\n",
    "# display the top ten\n",
    "count.each{|ar| puts (\"   \" + ar[1].to_s + \" \" + ar[0].to_s)}"
   ]
  },
  {
   "attachments": {
    "topten-ruby.PNG": {
     "image/png": "[encoded data removed]"
    }
   },
   "cell_type": "markdown",
   "metadata": {},
   "source": [
    "![topten-ruby.PNG](attachment:topten-ruby.PNG)"
   ]
  }
 ],
 "metadata": {
  "celltoolbar": "Raw Cell Format",
  "kernelspec": {
   "display_name": "Python 3",
   "language": "python",
   "name": "python3"
  },
  "language_info": {
   "codemirror_mode": {
    "name": "ipython",
    "version": 3
   },
   "file_extension": ".py",
   "mimetype": "text/x-python",
   "name": "python",
   "nbconvert_exporter": "python",
   "pygments_lexer": "ipython3",
   "version": "3.7.3"
  }
 },
 "nbformat": 4,
 "nbformat_minor": 4
}
